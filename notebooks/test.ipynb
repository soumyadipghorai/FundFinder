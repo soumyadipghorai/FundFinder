{
 "cells": [
  {
   "cell_type": "code",
   "execution_count": 4,
   "metadata": {},
   "outputs": [],
   "source": [
    "import requests\n",
    "from bs4 import BeautifulSoup \n",
    "import os  \n",
    "from dotenv import main \n",
    "\n",
    "_ = main.load_dotenv(main.find_dotenv())\n",
    "BASE_URL = os.getenv(\"BASE_URL\")"
   ]
  },
  {
   "cell_type": "code",
   "execution_count": 2,
   "metadata": {},
   "outputs": [
    {
     "data": {
      "text/plain": [
       "'Expense ratio: 0.43%'"
      ]
     },
     "execution_count": 2,
     "metadata": {},
     "output_type": "execute_result"
    }
   ],
   "source": [
    "fund_url = BASE_URL+\"mutual-funds/aditya-birla-sun-life-psu-equity-fund-direct-growth\"\n",
    "fund_list_page = requests.get(fund_url)\n",
    "fund_list_page_htmlcontent = fund_list_page.content\n",
    "fund_list_page_soup = BeautifulSoup(fund_list_page_htmlcontent, 'html.parser')\n",
    "\n",
    "fund_list_page_soup.find('h3', {'class' : 'ot654subHeading bodyLargeHeavy'}).text"
   ]
  },
  {
   "cell_type": "code",
   "execution_count": 3,
   "metadata": {},
   "outputs": [
    {
     "data": {
      "text/plain": [
       "<h2 class=\"componentsMainHeading contentPrimary mf320Heading headingLarge\">Returns and rankings</h2>"
      ]
     },
     "execution_count": 3,
     "metadata": {},
     "output_type": "execute_result"
    }
   ],
   "source": [
    "fund_list_page_soup.find('h2', {'class' : 'componentsMainHeading contentPrimary mf320Heading headingLarge'})"
   ]
  },
  {
   "cell_type": "code",
   "execution_count": null,
   "metadata": {},
   "outputs": [],
   "source": []
  }
 ],
 "metadata": {
  "kernelspec": {
   "display_name": "Python 3",
   "language": "python",
   "name": "python3"
  },
  "language_info": {
   "codemirror_mode": {
    "name": "ipython",
    "version": 3
   },
   "file_extension": ".py",
   "mimetype": "text/x-python",
   "name": "python",
   "nbconvert_exporter": "python",
   "pygments_lexer": "ipython3",
   "version": "3.12.0"
  }
 },
 "nbformat": 4,
 "nbformat_minor": 2
}
